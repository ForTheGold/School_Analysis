{
 "cells": [
  {
   "cell_type": "code",
   "execution_count": 2,
   "metadata": {},
   "outputs": [],
   "source": [
    "import pandas as pd\n",
    "import os"
   ]
  },
  {
   "cell_type": "code",
   "execution_count": 12,
   "metadata": {},
   "outputs": [
    {
     "name": "stdout",
     "output_type": "stream",
     "text": [
      "{'Luke', 'Mr.', 'Jodi', 'Emma', 'Dawn', 'Leah', 'Ian', 'Cory', 'Lynn', 'Kara', 'Amy', 'Erik', 'Joe', 'Greg', 'Omar', 'Sean', 'Kyle', 'Mike', 'John', 'Lisa', 'Mary', 'Mrs.', 'Erin', 'Chad', 'Eric', 'Judy', 'Lori', 'Dr.', 'Dale', 'Cody', 'Ruth', 'Miss', 'Jill', 'Todd', 'Tara', 'Anne', 'Mark', 'Tina', 'Gina', 'Ms.', 'Gary', 'Anna', 'Seth', 'Jon', 'Kari', 'Noah', 'Troy', 'Jose', 'Kim', 'Carl', 'Paul', 'Marc', 'Adam', 'Tony', 'Gail', 'Toni', 'Dana', 'Ryan', 'Sara'} {'Li', 'Cox', 'Kim', 'DVM', 'Roy', 'III', 'Lee', 'IV', 'DDS', 'II', 'PhD', 'V', 'MD', 'Jr.', 'Day'}\n"
     ]
    }
   ],
   "source": [
    "student_data = os.path.join(\"Resources\", \"students_complete.csv\")\n",
    "student_data_df = pd.read_csv(student_data)\n",
    "\n",
    "student_names = student_data_df[\"student_name\"].tolist()\n",
    "names_to_fix = []\n",
    "prefixes = []\n",
    "suffixes = []\n",
    "\n",
    "for name in student_names:\n",
    "    if len(name.split()) >= 3:\n",
    "        names_to_fix.append(name)\n",
    "\n",
    "for name in names_to_fix:\n",
    "    if len(name.split()[0]) <= 4:\n",
    "        prefixes.append(name.split()[0])\n",
    "    if len(name.split()[-1]) <= 3:\n",
    "        suffixes.append(name.split()[-1])\n",
    "prefixes_set = set(prefixes)\n",
    "suffixes_set = set(suffixes)\n",
    "print(prefixes_set, suffixes_set)\n"
   ]
  },
  {
   "cell_type": "code",
   "execution_count": null,
   "metadata": {},
   "outputs": [],
   "source": []
  }
 ],
 "metadata": {
  "kernelspec": {
   "display_name": "Python 3",
   "language": "python",
   "name": "python3"
  },
  "language_info": {
   "codemirror_mode": {
    "name": "ipython",
    "version": 3
   },
   "file_extension": ".py",
   "mimetype": "text/x-python",
   "name": "python",
   "nbconvert_exporter": "python",
   "pygments_lexer": "ipython3",
   "version": "3.7.9"
  }
 },
 "nbformat": 4,
 "nbformat_minor": 4
}
